{
 "cells": [
  {
   "cell_type": "code",
   "execution_count": 1,
   "metadata": {},
   "outputs": [],
   "source": [
    "#building a custom transformer to calculate distance between a given coordinate and california"
   ]
  },
  {
   "cell_type": "code",
   "execution_count": 2,
   "metadata": {},
   "outputs": [],
   "source": [
    "#importing data\n",
    "from sklearn.datasets import fetch_california_housing\n",
    "\n",
    "\n",
    "#instantiating\n",
    "data = fetch_california_housing()\n",
    "\n",
    "#initializing\n",
    "X = data['data']\n",
    "y = data['target']"
   ]
  },
  {
   "cell_type": "code",
   "execution_count": 23,
   "metadata": {},
   "outputs": [],
   "source": [
    "#importing the estimators\n",
    "from sklearn.base import BaseEstimator, TransformerMixin\n",
    "import numpy as np\n",
    "\n",
    "#building a class\n",
    "\n",
    "class GetDistanceFrom(BaseEstimator, TransformerMixin):\n",
    "    \n",
    "    def __init__(self, coordinates):\n",
    "        self.coordinates = coordinates \n",
    "        \n",
    "    def fit(self,X,y=None):\n",
    "        return self\n",
    "    \n",
    "    def transform(self, X):\n",
    "        latitude  = X[:,0]\n",
    "        longitude = X[:,1]\n",
    "        \n",
    "        distance = np.sqrt((latitude - self.coordinates[0])**2 + (longitude - self.coordinates[1])**2)\n",
    "        distance = distance.reshape(-1,1)     #reshaping into 2D array\n",
    "        return distance"
   ]
  },
  {
   "cell_type": "code",
   "execution_count": 24,
   "metadata": {},
   "outputs": [
    {
     "name": "stdout",
     "output_type": "stream",
     "text": [
      ".. _california_housing_dataset:\n",
      "\n",
      "California Housing dataset\n",
      "--------------------------\n",
      "\n",
      "**Data Set Characteristics:**\n",
      "\n",
      "    :Number of Instances: 20640\n",
      "\n",
      "    :Number of Attributes: 8 numeric, predictive attributes and the target\n",
      "\n",
      "    :Attribute Information:\n",
      "        - MedInc        median income in block\n",
      "        - HouseAge      median house age in block\n",
      "        - AveRooms      average number of rooms\n",
      "        - AveBedrms     average number of bedrooms\n",
      "        - Population    block population\n",
      "        - AveOccup      average house occupancy\n",
      "        - Latitude      house block latitude\n",
      "        - Longitude     house block longitude\n",
      "\n",
      "    :Missing Attribute Values: None\n",
      "\n",
      "This dataset was obtained from the StatLib repository.\n",
      "http://lib.stat.cmu.edu/datasets/\n",
      "\n",
      "The target variable is the median house value for California districts.\n",
      "\n",
      "This dataset was derived from the 1990 U.S. census, using one row per census\n",
      "block group. A block group is the smallest geographical unit for which the U.S.\n",
      "Census Bureau publishes sample data (a block group typically has a population\n",
      "of 600 to 3,000 people).\n",
      "\n",
      "It can be downloaded/loaded using the\n",
      ":func:`sklearn.datasets.fetch_california_housing` function.\n",
      "\n",
      ".. topic:: References\n",
      "\n",
      "    - Pace, R. Kelley and Ronald Barry, Sparse Spatial Autoregressions,\n",
      "      Statistics and Probability Letters, 33 (1997) 291-297\n",
      "\n"
     ]
    }
   ],
   "source": [
    "print(data['DESCR'])"
   ]
  },
  {
   "cell_type": "code",
   "execution_count": 25,
   "metadata": {},
   "outputs": [],
   "source": [
    "#the latitude and longitude are the two features of interest and distance is to be calculated using these features \n",
    "#using Euclidean distanc formula.\n"
   ]
  },
  {
   "cell_type": "code",
   "execution_count": 26,
   "metadata": {},
   "outputs": [
    {
     "data": {
      "text/plain": [
       "array([[  37.88, -122.23],\n",
       "       [  37.86, -122.22],\n",
       "       [  37.85, -122.24],\n",
       "       ...,\n",
       "       [  39.43, -121.22],\n",
       "       [  39.43, -121.32],\n",
       "       [  39.37, -121.24]])"
      ]
     },
     "execution_count": 26,
     "metadata": {},
     "output_type": "execute_result"
    }
   ],
   "source": [
    "#interested data\n",
    "\n",
    "X[:,-2:]"
   ]
  },
  {
   "cell_type": "code",
   "execution_count": 29,
   "metadata": {},
   "outputs": [],
   "source": [
    "#calculating distance \n",
    "#LosAngeles coordinates are 34N, 118W\n",
    "\n",
    "LA_coordinates = [34,-118]\n",
    "\n",
    "dist_from_LA = GetDistanceFrom(LA_coordinates)\n",
    "\n",
    "distance = dist_from_LA.fit_transform(X[:,-2:])\n"
   ]
  },
  {
   "cell_type": "code",
   "execution_count": 28,
   "metadata": {},
   "outputs": [
    {
     "name": "stdout",
     "output_type": "stream",
     "text": [
      "[[5.73997387]\n",
      " [5.71909084]\n",
      " [5.72713716]\n",
      " ...\n",
      " [6.31294701]\n",
      " [6.36453455]\n",
      " [6.27172225]]\n",
      "(20640, 1)\n"
     ]
    }
   ],
   "source": [
    "print(distance)\n",
    "print(distance.shape)"
   ]
  },
  {
   "cell_type": "code",
   "execution_count": 30,
   "metadata": {},
   "outputs": [],
   "source": [
    "#since only the last two columns are required;hence there arises a need to automate or code for dropping the \n",
    "#possibility of other columns.\n",
    "\n",
    "class DropColumns(BaseEstimator, TransformerMixin):\n",
    "    def __init__(self, indexed_cols):\n",
    "        self.indexed_cols = indexed_cols\n",
    "        \n",
    "    def fit(self, X,y):\n",
    "        return self\n",
    "    \n",
    "    def transform(self,X):\n",
    "        return X[:, self.indexed_cols]"
   ]
  },
  {
   "cell_type": "code",
   "execution_count": 32,
   "metadata": {},
   "outputs": [
    {
     "data": {
      "text/plain": [
       "array([[0.90956033],\n",
       "       [0.88769364],\n",
       "       [0.8832327 ],\n",
       "       ...,\n",
       "       [2.55211677],\n",
       "       [2.52335095],\n",
       "       [2.48887525]])"
      ]
     },
     "execution_count": 32,
     "metadata": {},
     "output_type": "execute_result"
    }
   ],
   "source": [
    "SF_coordinates = [37,-122]\n",
    "dist_from_SF = GetDistanceFrom(SF_coordinates)\n",
    "dist_from_SF.fit_transform(X[:,-2:])"
   ]
  },
  {
   "cell_type": "code",
   "execution_count": 33,
   "metadata": {},
   "outputs": [],
   "source": [
    "#automation is necessary in this step since not always the clumns can be chosen and resuts be obtained.\n",
    "#hence utilising FeatureUnion and then encapsulating with the help of Pipeline."
   ]
  },
  {
   "cell_type": "code",
   "execution_count": 35,
   "metadata": {},
   "outputs": [],
   "source": [
    "#importing necessary libraries\n",
    "from sklearn.pipeline import Pipeline\n",
    "from sklearn.pipeline import FeatureUnion\n",
    "from sklearn.linear_model import LinearRegression"
   ]
  },
  {
   "cell_type": "code",
   "execution_count": 37,
   "metadata": {},
   "outputs": [
    {
     "data": {
      "text/plain": [
       "Pipeline(memory=None,\n",
       "         steps=[('union',\n",
       "                 FeatureUnion(n_jobs=None,\n",
       "                              transformer_list=[('drop',\n",
       "                                                 DropColumns(indexed_cols=[0, 1,\n",
       "                                                                           2, 3,\n",
       "                                                                           4,\n",
       "                                                                           5])),\n",
       "                                                ('LA',\n",
       "                                                 GetDistanceFrom(coordinates=[34,\n",
       "                                                                              -118])),\n",
       "                                                ('SF',\n",
       "                                                 GetDistanceFrom(coordinates=[37,\n",
       "                                                                              -122]))],\n",
       "                              transformer_weights=None, verbose=False)),\n",
       "                ('regressor',\n",
       "                 LinearRegression(copy_X=True, fit_intercept=True, n_jobs=None,\n",
       "                                  normalize=False))],\n",
       "         verbose=False)"
      ]
     },
     "execution_count": 37,
     "metadata": {},
     "output_type": "execute_result"
    }
   ],
   "source": [
    "coordinates_LA = [34,-118]\n",
    "coordinates_SF = [37,-122]\n",
    "\n",
    "distance_LA = GetDistanceFrom(coordinates_LA)\n",
    "distance_SF = GetDistanceFrom(coordinates_SF)\n",
    "\n",
    "drop = DropColumns([0,1,2,3,4,5])\n",
    "\n",
    "#making a union\n",
    "\n",
    "union = FeatureUnion([('drop', drop), ('LA', distance_LA), ('SF', distance_SF)])\n",
    "\n",
    "#making a pipeline\n",
    "pipe = Pipeline([('union',union), ('regressor',LinearRegression())])\n",
    "\n",
    "#fitting data\n",
    "pipe.fit(X,y)\n"
   ]
  },
  {
   "cell_type": "code",
   "execution_count": 41,
   "metadata": {},
   "outputs": [],
   "source": [
    "a = pipe.predict(X)"
   ]
  },
  {
   "cell_type": "code",
   "execution_count": 39,
   "metadata": {},
   "outputs": [
    {
     "data": {
      "text/plain": [
       "0.5492141613373734"
      ]
     },
     "execution_count": 39,
     "metadata": {},
     "output_type": "execute_result"
    }
   ],
   "source": [
    "#obtaining scores\n",
    "pipe.score(X,y)"
   ]
  },
  {
   "cell_type": "code",
   "execution_count": null,
   "metadata": {},
   "outputs": [],
   "source": []
  }
 ],
 "metadata": {
  "kernelspec": {
   "display_name": "Python 3",
   "language": "python",
   "name": "python3"
  },
  "language_info": {
   "codemirror_mode": {
    "name": "ipython",
    "version": 3
   },
   "file_extension": ".py",
   "mimetype": "text/x-python",
   "name": "python",
   "nbconvert_exporter": "python",
   "pygments_lexer": "ipython3",
   "version": "3.7.4"
  }
 },
 "nbformat": 4,
 "nbformat_minor": 2
}
